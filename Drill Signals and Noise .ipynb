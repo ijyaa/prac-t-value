{
 "cells": [
  {
   "cell_type": "code",
   "execution_count": 2,
   "metadata": {},
   "outputs": [],
   "source": [
    "import numpy as np \n",
    "import pandas as pd\n",
    "import matplotlib.pyplot as plt\n",
    "import seaborn as sns\n",
    "import scipy.stats as stats "
   ]
  },
  {
   "cell_type": "code",
   "execution_count": 12,
   "metadata": {},
   "outputs": [],
   "source": [
    "mean1 = 5\n",
    "mean2 = 8 \n",
    "s1 = 1\n",
    "s2 = 3\n",
    "N1 = 200\n",
    "N2 = 500"
   ]
  },
  {
   "cell_type": "code",
   "execution_count": 16,
   "metadata": {},
   "outputs": [
    {
     "name": "stdout",
     "output_type": "stream",
     "text": [
      "-3\n",
      "[1 3]\n",
      "[200 500]\n",
      "0.15165750888103102\n",
      "-19.78141420187361\n"
     ]
    }
   ],
   "source": [
    "diff = mean1 - mean2\n",
    "print(diff)\n",
    "sd = np.array([s1, s2]) \n",
    "print(sd)\n",
    "size = np.array([N1, N2])\n",
    "print(size)\n",
    "diff_se = (sum(sd**2 / size))** 0.5\n",
    "print(diff_se)\n",
    "t_val = diff/diff_se\n",
    "print(t_val)"
   ]
  },
  {
   "cell_type": "code",
   "execution_count": 17,
   "metadata": {},
   "outputs": [],
   "source": [
    "mean1 = 1090\n",
    "mean2 = 999\n",
    "s1 = 400\n",
    "s2 = 30\n",
    "N1 = 900\n",
    "N2 = 100"
   ]
  },
  {
   "cell_type": "code",
   "execution_count": 18,
   "metadata": {},
   "outputs": [
    {
     "name": "stdout",
     "output_type": "stream",
     "text": [
      "91\n",
      "[400  30]\n",
      "[900 100]\n",
      "13.666666666666666\n",
      "6.658536585365854\n"
     ]
    }
   ],
   "source": [
    "diff = mean1 - mean2\n",
    "print(diff)\n",
    "sd = np.array([s1, s2]) \n",
    "print(sd)\n",
    "size = np.array([N1, N2])\n",
    "print(size)\n",
    "diff_se = (sum(sd**2 / size))** 0.5\n",
    "print(diff_se)\n",
    "t_val = diff/diff_se\n",
    "print(t_val)"
   ]
  },
  {
   "cell_type": "code",
   "execution_count": 19,
   "metadata": {},
   "outputs": [],
   "source": [
    "mean1 = 45\n",
    "mean2 = 40\n",
    "s1 = 45\n",
    "s2 = 40\n",
    "N1 = 2000\n",
    "N2 = 2000"
   ]
  },
  {
   "cell_type": "code",
   "execution_count": 20,
   "metadata": {},
   "outputs": [
    {
     "name": "stdout",
     "output_type": "stream",
     "text": [
      "5\n",
      "[45 40]\n",
      "[2000 2000]\n",
      "1.346291201783626\n",
      "3.7139067635410377\n"
     ]
    }
   ],
   "source": [
    "diff = mean1 - mean2\n",
    "print(diff)\n",
    "sd = np.array([s1, s2]) \n",
    "print(sd)\n",
    "size = np.array([N1, N2])\n",
    "print(size)\n",
    "diff_se = (sum(sd**2 / size))** 0.5\n",
    "print(diff_se)\n",
    "t_val = diff/diff_se\n",
    "print(t_val)"
   ]
  },
  {
   "cell_type": "code",
   "execution_count": null,
   "metadata": {},
   "outputs": [],
   "source": []
  }
 ],
 "metadata": {
  "kernelspec": {
   "display_name": "Python 3",
   "language": "python",
   "name": "python3"
  },
  "language_info": {
   "codemirror_mode": {
    "name": "ipython",
    "version": 3
   },
   "file_extension": ".py",
   "mimetype": "text/x-python",
   "name": "python",
   "nbconvert_exporter": "python",
   "pygments_lexer": "ipython3",
   "version": "3.7.1"
  }
 },
 "nbformat": 4,
 "nbformat_minor": 2
}
